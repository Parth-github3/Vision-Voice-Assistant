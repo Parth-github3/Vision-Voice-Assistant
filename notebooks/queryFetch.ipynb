{
 "cells": [
  {
   "cell_type": "code",
   "execution_count": 1,
   "metadata": {},
   "outputs": [],
   "source": [
    "from dotenv import load_dotenv\n",
    "load_dotenv()\n",
    "import os"
   ]
  },
  {
   "cell_type": "code",
   "execution_count": 2,
   "metadata": {},
   "outputs": [],
   "source": [
    "os.chdir(\"../\")"
   ]
  },
  {
   "cell_type": "code",
   "execution_count": 3,
   "metadata": {},
   "outputs": [
    {
     "name": "stdout",
     "output_type": "stream",
     "text": [
      "[2025-04-03 15:19:20,851: INFO: 3105778384: Testing logging]\n"
     ]
    }
   ],
   "source": [
    "from src.logging import logger\n",
    "\n",
    "logger.info(\"Testing logging\")"
   ]
  },
  {
   "cell_type": "code",
   "execution_count": 4,
   "metadata": {},
   "outputs": [],
   "source": [
    "\n",
    "import speech_recognition as sr\n",
    "from pydub import AudioSegment\n",
    "from io import BytesIO\n"
   ]
  },
  {
   "cell_type": "code",
   "execution_count": 5,
   "metadata": {},
   "outputs": [],
   "source": [
    "from groq import Groq\n",
    "\n",
    "GROQ_API_KEY=os.environ.get(\"GROQ_API_KEY\")\n",
    "stt_model=\"whisper-large-v3\"\n",
    "audio_filepath=\"/Users/parth/Downloads/deep/bot/final.mp3\""
   ]
  },
  {
   "cell_type": "code",
   "execution_count": 9,
   "metadata": {},
   "outputs": [],
   "source": [
    "def transcribe_with_groq(stt_model, audio_filepath, GROQ_API_KEY):\n",
    "    client=Groq(api_key=GROQ_API_KEY)\n",
    "    \n",
    "    audio_file=open(audio_filepath, \"rb\")\n",
    "    transcription=client.audio.transcriptions.create(\n",
    "        model=stt_model,\n",
    "        file=audio_file,\n",
    "        language=\"en\"\n",
    "    )\n",
    "    logger.info(\"Audio is Transcribed\")\n",
    "    return transcription.text"
   ]
  },
  {
   "cell_type": "code",
   "execution_count": 10,
   "metadata": {},
   "outputs": [
    {
     "name": "stdout",
     "output_type": "stream",
     "text": [
      "[2025-04-03 15:20:28,195: INFO: _client: HTTP Request: POST https://api.groq.com/openai/v1/audio/transcriptions \"HTTP/1.1 200 OK\"]\n",
      "[2025-04-03 15:20:28,200: INFO: 136849911: Audio is Transcribed]\n"
     ]
    }
   ],
   "source": [
    "speech_to_text_output = transcribe_with_groq(GROQ_API_KEY=os.environ.get(\"GROQ_API_KEY\"), \n",
    "                                                 audio_filepath=audio_filepath,\n",
    "                                                 stt_model=\"whisper-large-v3\")\n"
   ]
  },
  {
   "cell_type": "code",
   "execution_count": 8,
   "metadata": {},
   "outputs": [
    {
     "data": {
      "text/plain": [
       "' It appears your potato plant is experiencing symptoms consistent with the presence of potato leaf roll virus, PLRV. This viral infection, transmitted by aphids, can cause curling and yellowing of leaves. Asterisk, asterisk. Treatment, asterisk, asterisk. Prune infected leaves to prevent the spread of the virus. Monitor for aphids and remove them from your garden. Use disease-resistant potato varieties. Apply fungicides or bactericides if necessary, but confirm with a laboratory or agricultural expert first.'"
      ]
     },
     "execution_count": 8,
     "metadata": {},
     "output_type": "execute_result"
    }
   ],
   "source": [
    "speech_to_text_output"
   ]
  },
  {
   "cell_type": "code",
   "execution_count": null,
   "metadata": {},
   "outputs": [],
   "source": []
  }
 ],
 "metadata": {
  "kernelspec": {
   "display_name": "research",
   "language": "python",
   "name": "python3"
  },
  "language_info": {
   "codemirror_mode": {
    "name": "ipython",
    "version": 3
   },
   "file_extension": ".py",
   "mimetype": "text/x-python",
   "name": "python",
   "nbconvert_exporter": "python",
   "pygments_lexer": "ipython3",
   "version": "3.12.4"
  }
 },
 "nbformat": 4,
 "nbformat_minor": 2
}
