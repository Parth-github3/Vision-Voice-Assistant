{
 "cells": [
  {
   "cell_type": "code",
   "execution_count": null,
   "metadata": {},
   "outputs": [],
   "source": []
  },
  {
   "cell_type": "code",
   "execution_count": null,
   "metadata": {},
   "outputs": [],
   "source": [
    "from dotenv import load_dotenv\n",
    "load_dotenv()\n",
    "\n",
    "import os\n",
    "\n",
    "GROQ_API_KEY=os.environ.get(\"GROQ_API_KEY\")\n",
    "\n",
    "import base64 \n",
    "from groq import Groq\n",
    "from src.logging import logger"
   ]
  },
  {
   "cell_type": "code",
   "execution_count": 3,
   "metadata": {},
   "outputs": [],
   "source": [
    "os.chdir(\"../\")"
   ]
  },
  {
   "cell_type": "code",
   "execution_count": 5,
   "metadata": {},
   "outputs": [],
   "source": [
    "def encode_image(image_path):\n",
    "    try:   \n",
    "        image_file=open(image_path, \"rb\")\n",
    "        return base64.b64encode(image_file.read()).decode('utf-8')\n",
    "    except Exception:\n",
    "        logger.info(\"Image not encoded\")\n"
   ]
  },
  {
   "cell_type": "code",
   "execution_count": 6,
   "metadata": {},
   "outputs": [],
   "source": [
    "model=\"llama-3.2-90b-vision-preview\"\n",
    "\n",
    "def analyze_image_with_query(query, model, encoded_image):\n",
    "    client=Groq()  \n",
    "    messages=[\n",
    "        {\n",
    "            \"role\": \"user\",\n",
    "            \"content\": [\n",
    "                {\n",
    "                    \"type\": \"text\", \n",
    "                    \"text\": query\n",
    "                },\n",
    "                {\n",
    "                    \"type\": \"image_url\",\n",
    "                    \"image_url\": {\n",
    "                        \"url\": f\"data:image/jpeg;base64,{encoded_image}\",\n",
    "                    },\n",
    "                },\n",
    "            ],\n",
    "        }]\n",
    "    chat_completion=client.chat.completions.create(\n",
    "        messages=messages,\n",
    "        model=model\n",
    "    )\n",
    "\n",
    "    return chat_completion.choices[0].message.content"
   ]
  },
  {
   "cell_type": "code",
   "execution_count": 8,
   "metadata": {},
   "outputs": [
    {
     "name": "stdout",
     "output_type": "stream",
     "text": [
      "[2025-04-03 15:45:10,692: INFO: _client: HTTP Request: POST https://api.groq.com/openai/v1/chat/completions \"HTTP/1.1 200 OK\"]\n"
     ]
    },
    {
     "data": {
      "text/plain": [
       "\"I'd be happy to help you with that. However, please keep in mind that I'm a large language model and not a doctor. I can provide general information and guidance, but I'm not a substitute for a medical professional.\\n\\nTo check your scalp, I'll ask you a series of questions. Please answer them as accurately as possible.\\n\\n1. Have you noticed any changes in your scalp recently, such as itching, redness, or flaking?\\n2. Do you have any skin conditions, such as psoriasis, eczema, or dandruff?\\n3. Have you been experiencing any hair loss or thinning?\\n4. Do you use any hair care products, such as shampoos, conditioners, or styling products?\\n5. Have you been exposed to any chemicals or toxins that could be affecting your scalp?\\n6. Do you have any allergies or sensitivities that could be related to your scalp issues?\\n7. How often do you wash your hair, and what is your typical hair care routine?\\n8. Have you noticed any unusual odors or discharge from your scalp?\\n\\nOnce I have this information, I can provide some general guidance and recommendations. However, if you're concerned about your scalp health, I strongly recommend consulting a dermatologist or other medical professional for a proper evaluation and diagnosis.\""
      ]
     },
     "execution_count": 8,
     "metadata": {},
     "output_type": "execute_result"
    }
   ],
   "source": [
    "image_path= \"/Users/parth/Downloads/Scalp-psoriasis-1296x728-slide5-1024x575.webp\"\n",
    "query= \"Check my scalp\"\n",
    "\n",
    "analyze_image_with_query(model=\"llama-3.2-90b-vision-preview\",query= \"Check my scalp\", encoded_image=encode_image(image_path= \"/Users/parth/Downloads/Scalp-psoriasis-1296x728-slide5-1024x575.webp\") )"
   ]
  },
  {
   "cell_type": "code",
   "execution_count": null,
   "metadata": {},
   "outputs": [],
   "source": []
  }
 ],
 "metadata": {
  "kernelspec": {
   "display_name": "research",
   "language": "python",
   "name": "python3"
  },
  "language_info": {
   "codemirror_mode": {
    "name": "ipython",
    "version": 3
   },
   "file_extension": ".py",
   "mimetype": "text/x-python",
   "name": "python",
   "nbconvert_exporter": "python",
   "pygments_lexer": "ipython3",
   "version": "3.12.4"
  }
 },
 "nbformat": 4,
 "nbformat_minor": 2
}
